{
 "cells": [
  {
   "attachments": {},
   "cell_type": "markdown",
   "metadata": {},
   "source": [
    "### Model training"
   ]
  },
  {
   "cell_type": "code",
   "execution_count": 1,
   "metadata": {},
   "outputs": [],
   "source": [
    "import pandas as pd"
   ]
  },
  {
   "cell_type": "code",
   "execution_count": 2,
   "metadata": {},
   "outputs": [
    {
     "data": {
      "text/html": [
       "<div>\n",
       "<style scoped>\n",
       "    .dataframe tbody tr th:only-of-type {\n",
       "        vertical-align: middle;\n",
       "    }\n",
       "\n",
       "    .dataframe tbody tr th {\n",
       "        vertical-align: top;\n",
       "    }\n",
       "\n",
       "    .dataframe thead th {\n",
       "        text-align: right;\n",
       "    }\n",
       "</style>\n",
       "<table border=\"1\" class=\"dataframe\">\n",
       "  <thead>\n",
       "    <tr style=\"text-align: right;\">\n",
       "      <th></th>\n",
       "      <th>Unnamed: 0</th>\n",
       "      <th>carat</th>\n",
       "      <th>cut</th>\n",
       "      <th>color</th>\n",
       "      <th>clarity</th>\n",
       "      <th>depth</th>\n",
       "      <th>table</th>\n",
       "      <th>x</th>\n",
       "      <th>y</th>\n",
       "      <th>z</th>\n",
       "      <th>price</th>\n",
       "    </tr>\n",
       "  </thead>\n",
       "  <tbody>\n",
       "    <tr>\n",
       "      <th>0</th>\n",
       "      <td>1</td>\n",
       "      <td>0.30</td>\n",
       "      <td>Ideal</td>\n",
       "      <td>E</td>\n",
       "      <td>SI1</td>\n",
       "      <td>62.1</td>\n",
       "      <td>58.0</td>\n",
       "      <td>4.27</td>\n",
       "      <td>4.29</td>\n",
       "      <td>2.66</td>\n",
       "      <td>499</td>\n",
       "    </tr>\n",
       "    <tr>\n",
       "      <th>1</th>\n",
       "      <td>2</td>\n",
       "      <td>0.33</td>\n",
       "      <td>Premium</td>\n",
       "      <td>G</td>\n",
       "      <td>IF</td>\n",
       "      <td>60.8</td>\n",
       "      <td>58.0</td>\n",
       "      <td>4.42</td>\n",
       "      <td>4.46</td>\n",
       "      <td>2.70</td>\n",
       "      <td>984</td>\n",
       "    </tr>\n",
       "    <tr>\n",
       "      <th>2</th>\n",
       "      <td>3</td>\n",
       "      <td>0.90</td>\n",
       "      <td>Very Good</td>\n",
       "      <td>E</td>\n",
       "      <td>VVS2</td>\n",
       "      <td>62.2</td>\n",
       "      <td>60.0</td>\n",
       "      <td>6.04</td>\n",
       "      <td>6.12</td>\n",
       "      <td>3.78</td>\n",
       "      <td>6289</td>\n",
       "    </tr>\n",
       "  </tbody>\n",
       "</table>\n",
       "</div>"
      ],
      "text/plain": [
       "   Unnamed: 0  carat        cut color clarity  depth  table     x     y     z  \\\n",
       "0           1   0.30      Ideal     E     SI1   62.1   58.0  4.27  4.29  2.66   \n",
       "1           2   0.33    Premium     G      IF   60.8   58.0  4.42  4.46  2.70   \n",
       "2           3   0.90  Very Good     E    VVS2   62.2   60.0  6.04  6.12  3.78   \n",
       "\n",
       "   price  \n",
       "0    499  \n",
       "1    984  \n",
       "2   6289  "
      ]
     },
     "execution_count": 2,
     "metadata": {},
     "output_type": "execute_result"
    }
   ],
   "source": [
    "df = pd.read_csv(\"cubic_zirconia.csv\")\n",
    "df.head(3)"
   ]
  },
  {
   "cell_type": "code",
   "execution_count": 3,
   "metadata": {},
   "outputs": [],
   "source": [
    "df = df.drop(\"Unnamed: 0\", axis=1)"
   ]
  },
  {
   "cell_type": "code",
   "execution_count": 4,
   "metadata": {},
   "outputs": [
    {
     "data": {
      "text/html": [
       "<div>\n",
       "<style scoped>\n",
       "    .dataframe tbody tr th:only-of-type {\n",
       "        vertical-align: middle;\n",
       "    }\n",
       "\n",
       "    .dataframe tbody tr th {\n",
       "        vertical-align: top;\n",
       "    }\n",
       "\n",
       "    .dataframe thead th {\n",
       "        text-align: right;\n",
       "    }\n",
       "</style>\n",
       "<table border=\"1\" class=\"dataframe\">\n",
       "  <thead>\n",
       "    <tr style=\"text-align: right;\">\n",
       "      <th></th>\n",
       "      <th>carat</th>\n",
       "      <th>cut</th>\n",
       "      <th>color</th>\n",
       "      <th>clarity</th>\n",
       "      <th>depth</th>\n",
       "      <th>table</th>\n",
       "      <th>x</th>\n",
       "      <th>y</th>\n",
       "      <th>z</th>\n",
       "      <th>price</th>\n",
       "    </tr>\n",
       "  </thead>\n",
       "  <tbody>\n",
       "    <tr>\n",
       "      <th>0</th>\n",
       "      <td>0.30</td>\n",
       "      <td>Ideal</td>\n",
       "      <td>E</td>\n",
       "      <td>SI1</td>\n",
       "      <td>62.1</td>\n",
       "      <td>58.0</td>\n",
       "      <td>4.27</td>\n",
       "      <td>4.29</td>\n",
       "      <td>2.66</td>\n",
       "      <td>499</td>\n",
       "    </tr>\n",
       "    <tr>\n",
       "      <th>1</th>\n",
       "      <td>0.33</td>\n",
       "      <td>Premium</td>\n",
       "      <td>G</td>\n",
       "      <td>IF</td>\n",
       "      <td>60.8</td>\n",
       "      <td>58.0</td>\n",
       "      <td>4.42</td>\n",
       "      <td>4.46</td>\n",
       "      <td>2.70</td>\n",
       "      <td>984</td>\n",
       "    </tr>\n",
       "  </tbody>\n",
       "</table>\n",
       "</div>"
      ],
      "text/plain": [
       "   carat      cut color clarity  depth  table     x     y     z  price\n",
       "0   0.30    Ideal     E     SI1   62.1   58.0  4.27  4.29  2.66    499\n",
       "1   0.33  Premium     G      IF   60.8   58.0  4.42  4.46  2.70    984"
      ]
     },
     "execution_count": 4,
     "metadata": {},
     "output_type": "execute_result"
    }
   ],
   "source": [
    "df.head(2)"
   ]
  },
  {
   "cell_type": "code",
   "execution_count": 5,
   "metadata": {},
   "outputs": [],
   "source": [
    "## Independent and dependent features\n",
    "\n",
    "X = df.drop(\"price\", axis=1)\n",
    "y = df[\"price\"]"
   ]
  },
  {
   "cell_type": "code",
   "execution_count": 6,
   "metadata": {},
   "outputs": [],
   "source": [
    "# Define which column should be ordinal-encoded and which should be scaled\n",
    "\n",
    "categorical_feature = X.select_dtypes(include=\"object\").columns\n",
    "numerical_feature = X.select_dtypes(exclude=\"object\").columns"
   ]
  },
  {
   "cell_type": "code",
   "execution_count": 7,
   "metadata": {},
   "outputs": [
    {
     "data": {
      "text/plain": [
       "Index(['cut', 'color', 'clarity'], dtype='object')"
      ]
     },
     "execution_count": 7,
     "metadata": {},
     "output_type": "execute_result"
    }
   ],
   "source": [
    "categorical_feature"
   ]
  },
  {
   "cell_type": "code",
   "execution_count": 8,
   "metadata": {},
   "outputs": [],
   "source": [
    "cut_categories = [\"Fair\", \"Good\", \"Very Good\", \"Premium\", \"Ideal\"]\n",
    "color_categories = [\"D\", \"E\", \"F\", \"G\", \"H\", \"I\", \"J\"]\n",
    "clarity_categories = [\"I1\", \"SI2\", \"SI1\", \"VS2\", \"VS1\", \"VVS1\", \"VVS2\", \"IF\"]"
   ]
  },
  {
   "attachments": {},
   "cell_type": "markdown",
   "metadata": {},
   "source": [
    "### Pipeline creation"
   ]
  },
  {
   "cell_type": "code",
   "execution_count": 9,
   "metadata": {},
   "outputs": [],
   "source": [
    "from sklearn.impute import SimpleImputer ## For handling missing values\n",
    "from sklearn.preprocessing import StandardScaler ## For handling feature scaling\n",
    "from sklearn.preprocessing import OrdinalEncoder ## For Categorical Ordinal Encoding\n",
    "\n",
    "# Pipelines\n",
    "\n",
    "from sklearn.pipeline import Pipeline\n",
    "from sklearn.compose import ColumnTransformer"
   ]
  },
  {
   "cell_type": "code",
   "execution_count": 10,
   "metadata": {},
   "outputs": [],
   "source": [
    "## Numerical Pipeline\n",
    "\n",
    "numerical_pipeline = Pipeline(\n",
    "    steps = [(\"imputer\",SimpleImputer(strategy=\"median\")),\n",
    "             (\"scaler\", StandardScaler())]\n",
    ")\n",
    "\n",
    "\n",
    "## Categorical Pipeline\n",
    "\n",
    "categorical_pipeline = Pipeline(\n",
    "    steps= [\n",
    "        (\"imputer\", SimpleImputer(strategy=\"most_frequent\")),\n",
    "        (\"ordinal_encoder\", (OrdinalEncoder(categories=[cut_categories, color_categories, clarity_categories]))),\n",
    "        (\"scaler\", StandardScaler())\n",
    "    ]\n",
    ")"
   ]
  },
  {
   "cell_type": "code",
   "execution_count": 11,
   "metadata": {},
   "outputs": [],
   "source": [
    "preprocessor = ColumnTransformer([\n",
    "    (\"numerical_pipeline\", numerical_pipeline, numerical_feature),\n",
    "    (\"categorical_pipeline\", categorical_pipeline, categorical_feature)\n",
    "])"
   ]
  },
  {
   "attachments": {},
   "cell_type": "markdown",
   "metadata": {},
   "source": [
    "### Train Test Split"
   ]
  },
  {
   "cell_type": "code",
   "execution_count": 12,
   "metadata": {},
   "outputs": [],
   "source": [
    "from sklearn.model_selection import train_test_split\n",
    "\n",
    "X_train, X_test, y_train, y_test = train_test_split(X,y, test_size=0.25, random_state=20)"
   ]
  },
  {
   "cell_type": "code",
   "execution_count": 13,
   "metadata": {},
   "outputs": [],
   "source": [
    "X_train = pd.DataFrame(preprocessor.fit_transform(X_train), columns = preprocessor.get_feature_names_out())\n",
    "X_test = pd.DataFrame(preprocessor.transform(X_test), columns=preprocessor.get_feature_names_out())"
   ]
  },
  {
   "cell_type": "code",
   "execution_count": 14,
   "metadata": {},
   "outputs": [
    {
     "data": {
      "text/html": [
       "<div>\n",
       "<style scoped>\n",
       "    .dataframe tbody tr th:only-of-type {\n",
       "        vertical-align: middle;\n",
       "    }\n",
       "\n",
       "    .dataframe tbody tr th {\n",
       "        vertical-align: top;\n",
       "    }\n",
       "\n",
       "    .dataframe thead th {\n",
       "        text-align: right;\n",
       "    }\n",
       "</style>\n",
       "<table border=\"1\" class=\"dataframe\">\n",
       "  <thead>\n",
       "    <tr style=\"text-align: right;\">\n",
       "      <th></th>\n",
       "      <th>numerical_pipeline__carat</th>\n",
       "      <th>numerical_pipeline__depth</th>\n",
       "      <th>numerical_pipeline__table</th>\n",
       "      <th>numerical_pipeline__x</th>\n",
       "      <th>numerical_pipeline__y</th>\n",
       "      <th>numerical_pipeline__z</th>\n",
       "      <th>categorical_pipeline__cut</th>\n",
       "      <th>categorical_pipeline__color</th>\n",
       "      <th>categorical_pipeline__clarity</th>\n",
       "    </tr>\n",
       "  </thead>\n",
       "  <tbody>\n",
       "    <tr>\n",
       "      <th>0</th>\n",
       "      <td>0.419150</td>\n",
       "      <td>-1.251625</td>\n",
       "      <td>2.036898</td>\n",
       "      <td>0.635523</td>\n",
       "      <td>0.629143</td>\n",
       "      <td>0.467346</td>\n",
       "      <td>-0.828347</td>\n",
       "      <td>0.223394</td>\n",
       "      <td>-1.236431</td>\n",
       "    </tr>\n",
       "    <tr>\n",
       "      <th>1</th>\n",
       "      <td>0.690926</td>\n",
       "      <td>-0.820594</td>\n",
       "      <td>0.244281</td>\n",
       "      <td>0.954662</td>\n",
       "      <td>0.832461</td>\n",
       "      <td>0.769698</td>\n",
       "      <td>0.072466</td>\n",
       "      <td>0.808115</td>\n",
       "      <td>-0.050149</td>\n",
       "    </tr>\n",
       "  </tbody>\n",
       "</table>\n",
       "</div>"
      ],
      "text/plain": [
       "   numerical_pipeline__carat  numerical_pipeline__depth  \\\n",
       "0                   0.419150                  -1.251625   \n",
       "1                   0.690926                  -0.820594   \n",
       "\n",
       "   numerical_pipeline__table  numerical_pipeline__x  numerical_pipeline__y  \\\n",
       "0                   2.036898               0.635523               0.629143   \n",
       "1                   0.244281               0.954662               0.832461   \n",
       "\n",
       "   numerical_pipeline__z  categorical_pipeline__cut  \\\n",
       "0               0.467346                  -0.828347   \n",
       "1               0.769698                   0.072466   \n",
       "\n",
       "   categorical_pipeline__color  categorical_pipeline__clarity  \n",
       "0                     0.223394                      -1.236431  \n",
       "1                     0.808115                      -0.050149  "
      ]
     },
     "execution_count": 14,
     "metadata": {},
     "output_type": "execute_result"
    }
   ],
   "source": [
    "X_train.head(2)"
   ]
  },
  {
   "cell_type": "code",
   "execution_count": 15,
   "metadata": {},
   "outputs": [
    {
     "data": {
      "text/html": [
       "<div>\n",
       "<style scoped>\n",
       "    .dataframe tbody tr th:only-of-type {\n",
       "        vertical-align: middle;\n",
       "    }\n",
       "\n",
       "    .dataframe tbody tr th {\n",
       "        vertical-align: top;\n",
       "    }\n",
       "\n",
       "    .dataframe thead th {\n",
       "        text-align: right;\n",
       "    }\n",
       "</style>\n",
       "<table border=\"1\" class=\"dataframe\">\n",
       "  <thead>\n",
       "    <tr style=\"text-align: right;\">\n",
       "      <th></th>\n",
       "      <th>numerical_pipeline__carat</th>\n",
       "      <th>numerical_pipeline__depth</th>\n",
       "      <th>numerical_pipeline__table</th>\n",
       "      <th>numerical_pipeline__x</th>\n",
       "      <th>numerical_pipeline__y</th>\n",
       "      <th>numerical_pipeline__z</th>\n",
       "      <th>categorical_pipeline__cut</th>\n",
       "      <th>categorical_pipeline__color</th>\n",
       "      <th>categorical_pipeline__clarity</th>\n",
       "    </tr>\n",
       "  </thead>\n",
       "  <tbody>\n",
       "    <tr>\n",
       "      <th>0</th>\n",
       "      <td>1.903466</td>\n",
       "      <td>1.262725</td>\n",
       "      <td>-0.652027</td>\n",
       "      <td>1.637266</td>\n",
       "      <td>1.501719</td>\n",
       "      <td>1.717981</td>\n",
       "      <td>-0.828347</td>\n",
       "      <td>-1.530770</td>\n",
       "      <td>-1.236431</td>\n",
       "    </tr>\n",
       "    <tr>\n",
       "      <th>1</th>\n",
       "      <td>2.676982</td>\n",
       "      <td>0.616178</td>\n",
       "      <td>0.692435</td>\n",
       "      <td>2.124840</td>\n",
       "      <td>2.001544</td>\n",
       "      <td>2.116535</td>\n",
       "      <td>0.072466</td>\n",
       "      <td>0.808115</td>\n",
       "      <td>-0.643290</td>\n",
       "    </tr>\n",
       "  </tbody>\n",
       "</table>\n",
       "</div>"
      ],
      "text/plain": [
       "   numerical_pipeline__carat  numerical_pipeline__depth  \\\n",
       "0                   1.903466                   1.262725   \n",
       "1                   2.676982                   0.616178   \n",
       "\n",
       "   numerical_pipeline__table  numerical_pipeline__x  numerical_pipeline__y  \\\n",
       "0                  -0.652027               1.637266               1.501719   \n",
       "1                   0.692435               2.124840               2.001544   \n",
       "\n",
       "   numerical_pipeline__z  categorical_pipeline__cut  \\\n",
       "0               1.717981                  -0.828347   \n",
       "1               2.116535                   0.072466   \n",
       "\n",
       "   categorical_pipeline__color  categorical_pipeline__clarity  \n",
       "0                    -1.530770                      -1.236431  \n",
       "1                     0.808115                      -0.643290  "
      ]
     },
     "execution_count": 15,
     "metadata": {},
     "output_type": "execute_result"
    }
   ],
   "source": [
    "X_test.head(2)"
   ]
  },
  {
   "attachments": {},
   "cell_type": "markdown",
   "metadata": {},
   "source": [
    "### Model Training"
   ]
  },
  {
   "cell_type": "code",
   "execution_count": 16,
   "metadata": {},
   "outputs": [],
   "source": [
    "from sklearn.linear_model import LinearRegression, Lasso, Ridge, ElasticNet\n",
    "from sklearn.metrics import r2_score, mean_absolute_error, mean_squared_error"
   ]
  },
  {
   "cell_type": "code",
   "execution_count": 21,
   "metadata": {},
   "outputs": [],
   "source": [
    "regress = LinearRegression()\n",
    "\n",
    "model = regress.fit(X_train, y_train)"
   ]
  },
  {
   "cell_type": "code",
   "execution_count": 22,
   "metadata": {},
   "outputs": [
    {
     "data": {
      "text/plain": [
       "array([ 5205.77118173,  -113.32491185,   -71.15310183, -1034.22228376,\n",
       "          18.38728851,   -12.24665064,   128.85539149,  -559.92880478,\n",
       "         815.30157511])"
      ]
     },
     "execution_count": 22,
     "metadata": {},
     "output_type": "execute_result"
    }
   ],
   "source": [
    "regress.coef_"
   ]
  },
  {
   "cell_type": "code",
   "execution_count": 23,
   "metadata": {},
   "outputs": [
    {
     "data": {
      "text/plain": [
       "3953.238368355995"
      ]
     },
     "execution_count": 23,
     "metadata": {},
     "output_type": "execute_result"
    }
   ],
   "source": [
    "regress.intercept_"
   ]
  },
  {
   "cell_type": "code",
   "execution_count": 24,
   "metadata": {},
   "outputs": [
    {
     "data": {
      "text/plain": [
       "0.9071631629908168"
      ]
     },
     "execution_count": 24,
     "metadata": {},
     "output_type": "execute_result"
    }
   ],
   "source": [
    "regress.score(X_test, y_test)"
   ]
  },
  {
   "cell_type": "code",
   "execution_count": 28,
   "metadata": {},
   "outputs": [
    {
     "data": {
      "text/plain": [
       "(0.9071631629908168, 805.6305993140015, 1216.9983421766688)"
      ]
     },
     "execution_count": 28,
     "metadata": {},
     "output_type": "execute_result"
    }
   ],
   "source": [
    "### check for the metrics score\n",
    "import numpy as np\n",
    "def evaluate_model(actual, pred):\n",
    "    mse = np.sqrt(mean_squared_error(actual, pred))\n",
    "    mae = mean_absolute_error(actual, pred)\n",
    "    score = r2_score(y_test, y_pred)\n",
    "\n",
    "    return score, mae, mse\n",
    "\n",
    "y_pred = model.predict(X_test)\n",
    "\n",
    "evaluate_model(y_test, y_pred)"
   ]
  },
  {
   "cell_type": "code",
   "execution_count": 32,
   "metadata": {},
   "outputs": [
    {
     "name": "stdout",
     "output_type": "stream",
     "text": [
      "LinearRegression\n",
      "Model Evaluation Score\n",
      "PMSE 0.9071631629908168\n",
      "Mean Absolute Error 805.6305993140015\n",
      "Mean Squared Error 1216.9983421766688\n",
      "==============================\n",
      "\n",
      "\n",
      "Lasso\n",
      "Model Evaluation Score\n",
      "PMSE 0.9071414796792513\n",
      "Mean Absolute Error 807.0188172346014\n",
      "Mean Squared Error 1217.1404571732924\n",
      "==============================\n",
      "\n",
      "\n",
      "Ridge\n",
      "Model Evaluation Score\n",
      "PMSE 0.9071625523603883\n",
      "Mean Absolute Error 805.8528904266923\n",
      "Mean Squared Error 1217.0023445480392\n",
      "==============================\n",
      "\n",
      "\n",
      "ElasticNet\n",
      "Model Evaluation Score\n",
      "PMSE 0.8391941720350486\n",
      "Mean Absolute Error 1064.5482654084396\n",
      "Mean Squared Error 1601.6982872031358\n",
      "==============================\n",
      "\n",
      "\n"
     ]
    }
   ],
   "source": [
    "models = {\n",
    "    \"LinearRegression\": LinearRegression(),\n",
    "    \"Lasso\" : Lasso(),\n",
    "    \"Ridge\": Ridge(),\n",
    "    \"ElasticNet\" : ElasticNet()\n",
    "}\n",
    "\n",
    "model_list = []\n",
    "r2_score_list = []\n",
    "for i in models:\n",
    "    model = models[i]\n",
    "    model.fit(X_train, y_train)\n",
    "\n",
    "    # Make predictions\n",
    "    y_pred = model.predict(X_test)\n",
    "\n",
    "    #evaluate model\n",
    "\n",
    "    score, mae, mse = evaluate_model(y_test, y_pred)\n",
    "\n",
    "    print(i)\n",
    "    model_list.append(i)\n",
    "    r2_score_list.append(score)\n",
    "\n",
    "    print(\"Model Evaluation Score\")\n",
    "    print(\"PMSE\", score)\n",
    "    print(\"Mean Absolute Error\", mae)\n",
    "    print(\"Mean Squared Error\", mse)\n",
    "\n",
    "    print(\"=\"* 30)\n",
    "    print(\"\\n\")"
   ]
  },
  {
   "cell_type": "code",
   "execution_count": 33,
   "metadata": {},
   "outputs": [
    {
     "name": "stdout",
     "output_type": "stream",
     "text": [
      "['LinearRegression', 'Lasso', 'Ridge', 'ElasticNet']\n",
      "[0.9071631629908168, 0.9071414796792513, 0.9071625523603883, 0.8391941720350486]\n"
     ]
    }
   ],
   "source": [
    "print(model_list)\n",
    "print(r2_score_list)"
   ]
  },
  {
   "cell_type": "code",
   "execution_count": null,
   "metadata": {},
   "outputs": [],
   "source": []
  }
 ],
 "metadata": {
  "kernelspec": {
   "display_name": "env",
   "language": "python",
   "name": "python3"
  },
  "language_info": {
   "codemirror_mode": {
    "name": "ipython",
    "version": 3
   },
   "file_extension": ".py",
   "mimetype": "text/x-python",
   "name": "python",
   "nbconvert_exporter": "python",
   "pygments_lexer": "ipython3",
   "version": "3.11.3"
  },
  "orig_nbformat": 4
 },
 "nbformat": 4,
 "nbformat_minor": 2
}
